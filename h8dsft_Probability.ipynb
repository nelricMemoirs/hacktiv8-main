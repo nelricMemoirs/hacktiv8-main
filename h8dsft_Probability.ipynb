{
  "nbformat": 4,
  "nbformat_minor": 0,
  "metadata": {
    "colab": {
      "name": "h8dsft_Probability.ipynb",
      "provenance": [],
      "collapsed_sections": []
    },
    "kernelspec": {
      "name": "python3",
      "display_name": "Python 3"
    },
    "language_info": {
      "name": "python"
    }
  },
  "cells": [
    {
      "cell_type": "markdown",
      "metadata": {
        "id": "5wI7nd4xhZi6"
      },
      "source": [
        "# Non-Graded Challenge 10\n",
        "---\n",
        "> Arief Luqmannurhakim\n",
        ">\n",
        "> Batch 001 -- FTDS"
      ]
    },
    {
      "cell_type": "code",
      "metadata": {
        "id": "VWAJPSOjMAAF"
      },
      "source": [
        "import random"
      ],
      "execution_count": 25,
      "outputs": []
    },
    {
      "cell_type": "code",
      "metadata": {
        "id": "lNbIC6M6hofN"
      },
      "source": [
        "# Probabilitias menghitung coin hingga 50,000 kali \n",
        "\n",
        "coin = {'heads': 0, 'tails': 0}\n",
        "\n",
        "for experiment in range(50000):\n",
        "\n",
        "  lempar = random.randint(0, 1)\n",
        "  \n",
        "  if lempar == 0:\n",
        "    coin['heads'] += 1\n",
        "  else:\n",
        "    coin['tails'] += 1"
      ],
      "execution_count": 26,
      "outputs": []
    },
    {
      "cell_type": "code",
      "metadata": {
        "colab": {
          "base_uri": "https://localhost:8080/"
        },
        "id": "kHLa0OHsumAn",
        "outputId": "1745a63b-5b52-40ec-b61f-28b6dc073470"
      },
      "source": [
        "coin"
      ],
      "execution_count": 27,
      "outputs": [
        {
          "output_type": "execute_result",
          "data": {
            "text/plain": [
              "{'heads': 24882, 'tails': 25118}"
            ]
          },
          "metadata": {
            "tags": []
          },
          "execution_count": 27
        }
      ]
    },
    {
      "cell_type": "code",
      "metadata": {
        "colab": {
          "base_uri": "https://localhost:8080/"
        },
        "id": "FGbgAc7616NG",
        "outputId": "4c1d34c2-54cd-4a4c-eb8a-66015c4856be"
      },
      "source": [
        "# Coin dengan probabilitas ditentukan / 50% heads 50% tails\n",
        "from collections import Counter\n",
        "\n",
        "coin = np.arange(0, 2) # Head , Tails\n",
        "prob_coin = [0.5, 0.5] # Probability 50% masing2\n",
        "jumlah_lempar_koin = int(50e3)\n",
        "toss_the_coin = random.choices(coin, weights=prob_coin, k=jumlah_lempar_koin) \n",
        "Counter(toss_the_coin)"
      ],
      "execution_count": 46,
      "outputs": [
        {
          "output_type": "execute_result",
          "data": {
            "text/plain": [
              "Counter({0: 25004, 1: 24996})"
            ]
          },
          "metadata": {
            "tags": []
          },
          "execution_count": 46
        }
      ]
    }
  ]
}