{
  "nbformat": 4,
  "nbformat_minor": 0,
  "metadata": {
    "colab": {
      "name": "h8dsft_Linear_Algebra3.ipynb",
      "provenance": [],
      "collapsed_sections": []
    },
    "kernelspec": {
      "name": "python3",
      "display_name": "Python 3"
    },
    "language_info": {
      "name": "python"
    }
  },
  "cells": [
    {
      "cell_type": "markdown",
      "metadata": {
        "id": "nkgg7kK8n1Bi"
      },
      "source": [
        "# Non-Graded Challenge 6\n",
        "---\n",
        "> Arief Luqmannurhakim\n",
        ">\n",
        "> Btach 001 -- FTDS"
      ]
    },
    {
      "cell_type": "code",
      "metadata": {
        "id": "pXySR6DVlyG1"
      },
      "source": [
        "import numpy as np\n",
        "import sympy"
      ],
      "execution_count": null,
      "outputs": []
    },
    {
      "cell_type": "code",
      "metadata": {
        "colab": {
          "base_uri": "https://localhost:8080/"
        },
        "id": "U7tmcZz5mM4D",
        "outputId": "f766be22-66e3-44ed-ba80-3e231f6ed63b"
      },
      "source": [
        "A = np.array([1, 3])\n",
        "B = np.array([[1, -1],\n",
        "              [6, -4]])\n",
        "\n",
        "eig_val, eig_vector = np.linalg.eig(B)\n",
        "print('Nilai eigen value: ', eig_val)\n",
        "print('Nilai eigen vector: ', eig_vector)"
      ],
      "execution_count": null,
      "outputs": [
        {
          "output_type": "stream",
          "text": [
            "Nilai eigen value:  [-1. -2.]\n",
            "Nilai eigen vector:  [[0.4472136  0.31622777]\n",
            " [0.89442719 0.9486833 ]]\n"
          ],
          "name": "stdout"
        }
      ]
    },
    {
      "cell_type": "markdown",
      "metadata": {
        "id": "pPDstRWmnL3H"
      },
      "source": [
        "> A bukan merupakan eigen vector dari B"
      ]
    }
  ]
}