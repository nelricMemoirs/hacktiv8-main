{
  "nbformat": 4,
  "nbformat_minor": 0,
  "metadata": {
    "colab": {
      "name": "h8dsft_Linear_Algebra2.ipynb",
      "provenance": [],
      "collapsed_sections": []
    },
    "kernelspec": {
      "name": "python3",
      "display_name": "Python 3"
    },
    "language_info": {
      "name": "python"
    }
  },
  "cells": [
    {
      "cell_type": "markdown",
      "metadata": {
        "id": "z4h4iQYzT1y7"
      },
      "source": [
        "# Non-Graded Challenge 5\n",
        "---\n",
        "> Arief Luqmannurhakim\n",
        ">\n",
        "> Batch 001 -- FTDS"
      ]
    },
    {
      "cell_type": "code",
      "metadata": {
        "id": "yhGMfgj4Sg6R"
      },
      "source": [
        "import numpy as np\n",
        "import sympy"
      ],
      "execution_count": 5,
      "outputs": []
    },
    {
      "cell_type": "code",
      "metadata": {
        "colab": {
          "base_uri": "https://localhost:8080/",
          "height": 78
        },
        "id": "PTprO41CT1Cj",
        "outputId": "71ebded3-a571-483b-f605-b7b9c0f5d63c"
      },
      "source": [
        "# No 1, apakah vector w merupakan kombinasi linear dari v1 dan v2\n",
        "\n",
        "w = np.array([[-4, 5, 4]])\n",
        "v1 = np.array([[2, 1, 0]])\n",
        "v2 = np.array([[1, 3, 2]])\n",
        "\n",
        "komb_linear = sympy.Matrix(np.vstack((v1, v2, w)).T)\n",
        "display(komb_linear)"
      ],
      "execution_count": 42,
      "outputs": [
        {
          "output_type": "display_data",
          "data": {
            "text/latex": "$\\displaystyle \\left[\\begin{matrix}2 & 1 & -4\\\\1 & 3 & 5\\\\0 & 2 & 4\\end{matrix}\\right]$",
            "text/plain": [
              "Matrix([\n",
              "[2, 1, -4],\n",
              "[1, 3,  5],\n",
              "[0, 2,  4]])"
            ]
          },
          "metadata": {
            "tags": []
          }
        }
      ]
    },
    {
      "cell_type": "code",
      "metadata": {
        "colab": {
          "base_uri": "https://localhost:8080/"
        },
        "id": "J6oA5eSHUytm",
        "outputId": "f282d6c3-d534-4e21-e8ec-39b9683aeb47"
      },
      "source": [
        "komb_linear.rref()"
      ],
      "execution_count": 43,
      "outputs": [
        {
          "output_type": "execute_result",
          "data": {
            "text/plain": [
              "(Matrix([\n",
              " [1, 0, 0],\n",
              " [0, 1, 0],\n",
              " [0, 0, 1]]), (0, 1, 2))"
            ]
          },
          "metadata": {
            "tags": []
          },
          "execution_count": 43
        }
      ]
    },
    {
      "cell_type": "markdown",
      "metadata": {
        "id": "WmoVM3bvZnx7"
      },
      "source": [
        "Untuk membuktikan bahwa $w$ merupakan kombinasi linear dari $v_{1}$ dan $v_{2}$ maka kita harus mencari nilai dari c1 dan c2\n",
        "\n",
        "c1 $\\begin{pmatrix}\n",
        "2 \\\\\n",
        "1 \\\\\n",
        "0\n",
        "\\end{pmatrix}$ + c2 $\\begin{pmatrix}\n",
        "1 \\\\\n",
        "3 \\\\\n",
        "2\n",
        "\\end{pmatrix}$ = $\\begin{pmatrix}\n",
        "-4 \\\\\n",
        "5 \\\\\n",
        "4\n",
        "\\end{pmatrix}$\n",
        "\n",
        "dari hasil OBE diatas terlihat bahwa nilai c1 = 0 dan c2 = 0, tetapi muncul variabel akhir yaitu 0 = 1 , dimana solusi ini salah karena 0 tdk sama dengan 1\n",
        "\n",
        "> Maka vektor $w$ bukan merupakan kombinasi linear "
      ]
    },
    {
      "cell_type": "markdown",
      "metadata": {
        "id": "yawMYaB_gJgt"
      },
      "source": [
        "# No 2, buktikan bahwa $T(-u) = -T(u)$"
      ]
    },
    {
      "cell_type": "code",
      "metadata": {
        "colab": {
          "base_uri": "https://localhost:8080/"
        },
        "id": "teYH4nyagDNf",
        "outputId": "9d098e5a-a3b2-4d45-a353-44760b7c274c"
      },
      "source": [
        "k = -1\n",
        "u = np.array([[2, 3],\n",
        "              [5, 10]])\n",
        "T = np.array([[1, 0],   # Transformasi linear (Reflection)\n",
        "     [0, -1]])\n",
        "\n",
        "# T (ku)\n",
        "T.dot(k * u)"
      ],
      "execution_count": 51,
      "outputs": [
        {
          "output_type": "execute_result",
          "data": {
            "text/plain": [
              "array([[-2, -3],\n",
              "       [ 5, 10]])"
            ]
          },
          "metadata": {
            "tags": []
          },
          "execution_count": 51
        }
      ]
    },
    {
      "cell_type": "code",
      "metadata": {
        "colab": {
          "base_uri": "https://localhost:8080/"
        },
        "id": "qzL11z6SgixZ",
        "outputId": "778ed582-3a3a-4e5f-c79a-773f62b28989"
      },
      "source": [
        "# -T(u)\n",
        "k * (T.dot(u))"
      ],
      "execution_count": 52,
      "outputs": [
        {
          "output_type": "execute_result",
          "data": {
            "text/plain": [
              "array([[-2, -3],\n",
              "       [ 5, 10]])"
            ]
          },
          "metadata": {
            "tags": []
          },
          "execution_count": 52
        }
      ]
    },
    {
      "cell_type": "markdown",
      "metadata": {
        "id": "Q5ZMciMthOEU"
      },
      "source": [
        "> Hasil diatas membuktikan bahwa $T(-u) = -T(u)$"
      ]
    }
  ]
}