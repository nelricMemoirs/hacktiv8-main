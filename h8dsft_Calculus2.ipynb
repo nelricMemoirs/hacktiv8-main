{
  "nbformat": 4,
  "nbformat_minor": 0,
  "metadata": {
    "colab": {
      "name": "h8dsft_Calculus2.ipynb",
      "provenance": [],
      "collapsed_sections": []
    },
    "kernelspec": {
      "name": "python3",
      "display_name": "Python 3"
    },
    "language_info": {
      "name": "python"
    }
  },
  "cells": [
    {
      "cell_type": "markdown",
      "metadata": {
        "id": "jJUN7tyXoIS0"
      },
      "source": [
        "# Non-Graded Challenge 8\n",
        "---\n",
        "> Arief Luqmannurhakim\n",
        ">\n",
        "> Batch 001 -- FTDS"
      ]
    },
    {
      "cell_type": "code",
      "metadata": {
        "id": "8u0wrdoopJ97"
      },
      "source": [
        "import sympy"
      ],
      "execution_count": 3,
      "outputs": []
    },
    {
      "cell_type": "code",
      "metadata": {
        "id": "8FcxWx0hpV2i"
      },
      "source": [
        "x, y = sympy.symbols(['x', 'y'])\n",
        "\n",
        "func1 = 3*x**2 - 6*x + 3\n",
        "func2 = 8*x**3 - x**2 + 5*x - 1"
      ],
      "execution_count": 27,
      "outputs": []
    },
    {
      "cell_type": "code",
      "metadata": {
        "colab": {
          "base_uri": "https://localhost:8080/",
          "height": 54
        },
        "id": "szTqooI1p2WI",
        "outputId": "20f3806a-ed48-4311-8acb-09c62d66317a"
      },
      "source": [
        "sympy.Integral(func1)"
      ],
      "execution_count": 31,
      "outputs": [
        {
          "output_type": "execute_result",
          "data": {
            "text/latex": "$\\displaystyle \\int \\left(3 x^{2} - 6 x + 3\\right)\\, dx$",
            "text/plain": [
              "Integral(3*x**2 - 6*x + 3, x)"
            ]
          },
          "metadata": {
            "tags": []
          },
          "execution_count": 31
        }
      ]
    },
    {
      "cell_type": "code",
      "metadata": {
        "colab": {
          "base_uri": "https://localhost:8080/",
          "height": 54
        },
        "id": "_1gYO6dEp3xM",
        "outputId": "e5893324-f6f2-4a1d-dd6d-901bc49f91ee"
      },
      "source": [
        "sympy.Integral(func2)"
      ],
      "execution_count": 34,
      "outputs": [
        {
          "output_type": "execute_result",
          "data": {
            "text/latex": "$\\displaystyle \\int \\left(8 x^{3} - x^{2} + 5 x - 1\\right)\\, dx$",
            "text/plain": [
              "Integral(8*x**3 - x**2 + 5*x - 1, x)"
            ]
          },
          "metadata": {
            "tags": []
          },
          "execution_count": 34
        }
      ]
    },
    {
      "cell_type": "code",
      "metadata": {
        "colab": {
          "base_uri": "https://localhost:8080/",
          "height": 37
        },
        "id": "zpdEQ348p7gS",
        "outputId": "b34a66b0-4f79-40ac-91f3-927f90eafae1"
      },
      "source": [
        "sympy.integrate(func1)"
      ],
      "execution_count": 35,
      "outputs": [
        {
          "output_type": "execute_result",
          "data": {
            "text/latex": "$\\displaystyle x^{3} - 3 x^{2} + 3 x$",
            "text/plain": [
              "x**3 - 3*x**2 + 3*x"
            ]
          },
          "metadata": {
            "tags": []
          },
          "execution_count": 35
        }
      ]
    },
    {
      "cell_type": "code",
      "metadata": {
        "colab": {
          "base_uri": "https://localhost:8080/",
          "height": 54
        },
        "id": "5oaDkBSZrZno",
        "outputId": "26a637ea-f263-4944-dd9f-83828d3062d5"
      },
      "source": [
        "sympy.integrate(func2)"
      ],
      "execution_count": 36,
      "outputs": [
        {
          "output_type": "execute_result",
          "data": {
            "text/latex": "$\\displaystyle 2 x^{4} - \\frac{x^{3}}{3} + \\frac{5 x^{2}}{2} - x$",
            "text/plain": [
              "2*x**4 - x**3/3 + 5*x**2/2 - x"
            ]
          },
          "metadata": {
            "tags": []
          },
          "execution_count": 36
        }
      ]
    }
  ]
}