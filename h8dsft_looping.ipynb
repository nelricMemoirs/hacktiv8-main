{
 "metadata": {
  "language_info": {
   "codemirror_mode": {
    "name": "ipython",
    "version": 3
   },
   "file_extension": ".py",
   "mimetype": "text/x-python",
   "name": "python",
   "nbconvert_exporter": "python",
   "pygments_lexer": "ipython3",
   "version": "3.6.8"
  },
  "orig_nbformat": 4,
  "kernelspec": {
   "name": "python3",
   "display_name": "Python 3.6.8 64-bit"
  },
  "interpreter": {
   "hash": "83f30b26af0a87ee706a28a959f6642ad0a1d134e1eb968313f9a3da2b9bf57d"
  }
 },
 "nbformat": 4,
 "nbformat_minor": 2,
 "cells": [
  {
   "source": [
    "# Non-Graded Challenge 1 (Week 1)\n"
   ],
   "cell_type": "markdown",
   "metadata": {}
  },
  {
   "cell_type": "code",
   "execution_count": 1,
   "metadata": {},
   "outputs": [
    {
     "output_type": "stream",
     "name": "stdout",
     "text": [
      "402\n360\n408\n544\n390\n592\n236\n386\n462\n418\n344\n236\n566\n328\n162\n758\n918\n412\n566\n826\n248\n866\n626\nDone\n"
     ]
    }
   ],
   "source": [
    "# Input numbers\n",
    "numbers = [\n",
    "           951, 402, 984, 651, 360, 69, 408, 319, 601, 485, 980, 507, 725, \n",
    "           547, 544, 615, 83, 165, 141, 501, 263, 617, 865, 575, 219, 390, \n",
    "           984, 592, 236, 105, 942, 941, 386, 462, 47, 418, 907, 344, 236, \n",
    "           375, 823, 566, 597, 978, 328, 615, 953, 345, 399, 162, 758, 219, \n",
    "           918, 237, 412, 566, 826, 248, 866, 950, 626, 949\n",
    "          ]\n",
    "\n",
    "# Access every element in numbers\n",
    "for number in numbers:\n",
    "    if number > 918:\n",
    "        continue\n",
    "\n",
    "    # otherwise \n",
    "    if number % 2 == 0 :\n",
    "        print(number)\n",
    "print(\"Done\")\n",
    "\n"
   ]
  }
 ]
}