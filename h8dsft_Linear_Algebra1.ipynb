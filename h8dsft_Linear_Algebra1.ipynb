{
  "nbformat": 4,
  "nbformat_minor": 0,
  "metadata": {
    "colab": {
      "name": "h8dsft_Linear_Algebra1.ipynb",
      "provenance": []
    },
    "kernelspec": {
      "name": "python3",
      "display_name": "Python 3"
    },
    "language_info": {
      "name": "python"
    }
  },
  "cells": [
    {
      "cell_type": "markdown",
      "metadata": {
        "id": "jFTwSUuDx5xe"
      },
      "source": [
        "# Non-Graded cahllenge 4\n",
        "---\n",
        "> Arief Luqmannurhakim\n",
        ">\n",
        "> Btach 001 -- FTDS"
      ]
    },
    {
      "cell_type": "code",
      "metadata": {
        "id": "qNqZdzkPiBxb"
      },
      "source": [
        "import numpy as np\n",
        "import matplotlib.pyplot as plt\n",
        "import sympy"
      ],
      "execution_count": 1,
      "outputs": []
    },
    {
      "cell_type": "code",
      "metadata": {
        "colab": {
          "base_uri": "https://localhost:8080/",
          "height": 78
        },
        "id": "jijjlu4Qx3op",
        "outputId": "c19b2fff-3aa8-493c-f1ca-48e992ea8401"
      },
      "source": [
        "# No.1\n",
        "\n",
        "arr1 = [17, 12, 19]\n",
        "sympy.Matrix(arr1)"
      ],
      "execution_count": 2,
      "outputs": [
        {
          "output_type": "execute_result",
          "data": {
            "text/latex": "$\\displaystyle \\left[\\begin{matrix}17\\\\12\\\\19\\end{matrix}\\right]$",
            "text/plain": [
              "Matrix([\n",
              "[17],\n",
              "[12],\n",
              "[19]])"
            ]
          },
          "metadata": {
            "tags": []
          },
          "execution_count": 2
        }
      ]
    },
    {
      "cell_type": "code",
      "metadata": {
        "colab": {
          "base_uri": "https://localhost:8080/",
          "height": 78
        },
        "id": "sA6He0-gyPcr",
        "outputId": "799d34e5-11c6-4447-eb06-2361ce1c833e"
      },
      "source": [
        "# No 2\n",
        "\n",
        "arr2 = [[23, 50, 19],\n",
        "        [7, 12, 109],\n",
        "        [57, 67, 98]]\n",
        "      \n",
        "sympy.Matrix(arr2)"
      ],
      "execution_count": 26,
      "outputs": [
        {
          "output_type": "execute_result",
          "data": {
            "text/latex": "$\\displaystyle \\left[\\begin{matrix}23 & 50 & 19\\\\7 & 12 & 109\\\\57 & 67 & 98\\end{matrix}\\right]$",
            "text/plain": [
              "Matrix([\n",
              "[23, 50,  19],\n",
              "[ 7, 12, 109],\n",
              "[57, 67,  98]])"
            ]
          },
          "metadata": {
            "tags": []
          },
          "execution_count": 26
        }
      ]
    },
    {
      "cell_type": "code",
      "metadata": {
        "colab": {
          "base_uri": "https://localhost:8080/",
          "height": 98
        },
        "id": "GELVXiqjymVs",
        "outputId": "8b44ebbb-f0ce-43b6-f007-47b11b788bc0"
      },
      "source": [
        "# No 3\n",
        "\n",
        "arr3 = [[23, 50],\n",
        "        [57, 67]]\n",
        "\n",
        "arr4 = [[7, 12],\n",
        "        [99, 43]]\n",
        "\n",
        "arr5 = [[75, 21],\n",
        "        [87, 26]]\n",
        "\n",
        "arr6 = [[57, 12],\n",
        "        [18, 84]]\n",
        "\n",
        "sympy.Matrix([arr3, arr4, arr5, arr6])"
      ],
      "execution_count": 39,
      "outputs": [
        {
          "output_type": "execute_result",
          "data": {
            "text/latex": "$\\displaystyle \\left[\\begin{matrix}\\left[ 23, \\  50\\right] & \\left[ 57, \\  67\\right]\\\\\\left[ 7, \\  12\\right] & \\left[ 99, \\  43\\right]\\\\\\left[ 75, \\  21\\right] & \\left[ 87, \\  26\\right]\\\\\\left[ 57, \\  12\\right] & \\left[ 18, \\  84\\right]\\end{matrix}\\right]$",
            "text/plain": [
              "Matrix([\n",
              "[[23, 50], [57, 67]],\n",
              "[ [7, 12], [99, 43]],\n",
              "[[75, 21], [87, 26]],\n",
              "[[57, 12], [18, 84]]])"
            ]
          },
          "metadata": {
            "tags": []
          },
          "execution_count": 39
        }
      ]
    },
    {
      "cell_type": "code",
      "metadata": {
        "colab": {
          "base_uri": "https://localhost:8080/"
        },
        "id": "bgOKQKGAASKl",
        "outputId": "57715da4-d991-4f38-b725-65d2c2a035d7"
      },
      "source": [
        "# No 4\n",
        "print(np.array(arr2).dot( np.array([17, 22, 19]).reshape(3,1) ))\n",
        "print('\\n')\n",
        "print(np.array(arr2) *  np.array([17, 22, 19]).reshape(3,1))"
      ],
      "execution_count": 60,
      "outputs": [
        {
          "output_type": "stream",
          "text": [
            "[[1852]\n",
            " [2454]\n",
            " [4305]]\n",
            "\n",
            "\n",
            "[[ 391  850  323]\n",
            " [ 154  264 2398]\n",
            " [1083 1273 1862]]\n"
          ],
          "name": "stdout"
        }
      ]
    },
    {
      "cell_type": "code",
      "metadata": {
        "colab": {
          "base_uri": "https://localhost:8080/"
        },
        "id": "KfzF2fcLL9fl",
        "outputId": "db9e1b27-bb3f-4593-cdff-39eb3e179469"
      },
      "source": [
        "# No 5\n",
        "np.array(arr2).T"
      ],
      "execution_count": 62,
      "outputs": [
        {
          "output_type": "execute_result",
          "data": {
            "text/plain": [
              "array([[ 23,   7,  57],\n",
              "       [ 50,  12,  67],\n",
              "       [ 19, 109,  98]])"
            ]
          },
          "metadata": {
            "tags": []
          },
          "execution_count": 62
        }
      ]
    },
    {
      "cell_type": "code",
      "metadata": {
        "id": "8oQb-htYMnKH"
      },
      "source": [
        "# No 6\n",
        "u = [2, 5]\n",
        "v = [3, 1]\n"
      ],
      "execution_count": 64,
      "outputs": []
    },
    {
      "cell_type": "code",
      "metadata": {
        "colab": {
          "base_uri": "https://localhost:8080/",
          "height": 268
        },
        "id": "-LpeE6wrPUI3",
        "outputId": "548a3086-98be-42e8-ed43-595a0d24a7e7"
      },
      "source": [
        "def Vectorplot(vector,  color,  origin=[0, 0]):\n",
        "  return plt.arrow(origin[0], origin[1], vector[0], vector[1],\n",
        "                   head_width=0.2, head_length=0.3, length_includes_head=True, color=color)\n",
        "  \n",
        "Vectorplot(u, color='g')\n",
        "Vectorplot(v, color='b')\n",
        "plt.axis([0, 9, 0, 9])\n",
        "plt.grid()\n",
        "plt.show()"
      ],
      "execution_count": 69,
      "outputs": [
        {
          "output_type": "display_data",
          "data": {
            "image/png": "[encoded data removed]",
            "text/plain": [
              "<Figure size 432x288 with 1 Axes>"
            ]
          },
          "metadata": {
            "tags": [],
            "needs_background": "light"
          }
        }
      ]
    }
  ]
}