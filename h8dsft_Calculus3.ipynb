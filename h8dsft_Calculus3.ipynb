{
  "nbformat": 4,
  "nbformat_minor": 0,
  "metadata": {
    "colab": {
      "name": "h8dsft_Calculus3.ipynb",
      "provenance": [],
      "collapsed_sections": []
    },
    "kernelspec": {
      "name": "python3",
      "display_name": "Python 3"
    },
    "language_info": {
      "name": "python"
    }
  },
  "cells": [
    {
      "cell_type": "markdown",
      "metadata": {
        "id": "jJUN7tyXoIS0"
      },
      "source": [
        "# Non-Graded Challenge 9\n",
        "---\n",
        "> Arief Luqmannurhakim\n",
        ">\n",
        "> Batch 001 -- FTDS"
      ]
    },
    {
      "cell_type": "code",
      "metadata": {
        "id": "AqIvr3xPsbat"
      },
      "source": [
        "from sympy.vector import CoordSys3D, Del, gradient\n",
        "import sympy as sy"
      ],
      "execution_count": 6,
      "outputs": []
    },
    {
      "cell_type": "markdown",
      "metadata": {
        "id": "WsWzG4PqslRs"
      },
      "source": [
        "> Untuk mencari gradient maka kita perlu melakukan derivative pasrsial atau turunan parsial\n",
        "\n",
        "> "
      ]
    },
    {
      "cell_type": "code",
      "metadata": {
        "id": "nxnGKjlztO6k"
      },
      "source": [
        "x, y = sy.symbols(['x', 'y',])\n",
        "\n",
        "func1 = 3*x + 4*y - 5"
      ],
      "execution_count": 21,
      "outputs": []
    },
    {
      "cell_type": "markdown",
      "metadata": {
        "id": "s1rsOKQuw_gt"
      },
      "source": [
        "$3x + 4y = 5$\n",
        "\n",
        "$3x + 4y - 5 = 0 $"
      ]
    },
    {
      "cell_type": "code",
      "metadata": {
        "colab": {
          "base_uri": "https://localhost:8080/",
          "height": 37
        },
        "id": "l-sOCfhCtdt6",
        "outputId": "18d0f695-3873-428f-a961-eaec4da27483"
      },
      "source": [
        "func1"
      ],
      "execution_count": 22,
      "outputs": [
        {
          "output_type": "execute_result",
          "data": {
            "text/latex": "$\\displaystyle 3 x + 4 y - 5$",
            "text/plain": [
              "3*x + 4*y - 5"
            ]
          },
          "metadata": {
            "tags": []
          },
          "execution_count": 22
        }
      ]
    },
    {
      "cell_type": "code",
      "metadata": {
        "colab": {
          "base_uri": "https://localhost:8080/",
          "height": 36
        },
        "id": "vHlKx8yAvQhc",
        "outputId": "5d5866bb-b6a6-47af-9428-a2d01cf1cc2c"
      },
      "source": [
        "partX = sy.diff(func1, x)\n",
        "partX"
      ],
      "execution_count": 23,
      "outputs": [
        {
          "output_type": "execute_result",
          "data": {
            "text/latex": "$\\displaystyle 3$",
            "text/plain": [
              "3"
            ]
          },
          "metadata": {
            "tags": []
          },
          "execution_count": 23
        }
      ]
    },
    {
      "cell_type": "code",
      "metadata": {
        "colab": {
          "base_uri": "https://localhost:8080/",
          "height": 36
        },
        "id": "TP1-qucnv5PN",
        "outputId": "b1d8d2b1-997c-4638-d4d7-461861799342"
      },
      "source": [
        "partY = sy.diff(func1, y)\n",
        "partY"
      ],
      "execution_count": 24,
      "outputs": [
        {
          "output_type": "execute_result",
          "data": {
            "text/latex": "$\\displaystyle 4$",
            "text/plain": [
              "4"
            ]
          },
          "metadata": {
            "tags": []
          },
          "execution_count": 24
        }
      ]
    },
    {
      "cell_type": "code",
      "metadata": {
        "colab": {
          "base_uri": "https://localhost:8080/",
          "height": 57
        },
        "id": "Fvcbp2rqv9X0",
        "outputId": "d4892ed3-4c59-4025-e14c-1c99a8478d54"
      },
      "source": [
        "sy.Matrix([partX, partY])"
      ],
      "execution_count": 25,
      "outputs": [
        {
          "output_type": "execute_result",
          "data": {
            "text/latex": "$\\displaystyle \\left[\\begin{matrix}3\\\\4\\end{matrix}\\right]$",
            "text/plain": [
              "Matrix([\n",
              "[3],\n",
              "[4]])"
            ]
          },
          "metadata": {
            "tags": []
          },
          "execution_count": 25
        }
      ]
    },
    {
      "cell_type": "markdown",
      "metadata": {
        "id": "OxatjuRpwgRj"
      },
      "source": [
        "> Vector gradient dari fungsi diatas adalah $\\begin{pmatrix}\n",
        "3 \\\\\n",
        "4\n",
        "\\end{pmatrix}$"
      ]
    },
    {
      "cell_type": "code",
      "metadata": {
        "colab": {
          "base_uri": "https://localhost:8080/",
          "height": 36
        },
        "id": "-YNZ6jXEte6h",
        "outputId": "98e26454-a62d-4d7d-9751-5218e5397693"
      },
      "source": [
        "gradient(func1)"
      ],
      "execution_count": 10,
      "outputs": [
        {
          "output_type": "execute_result",
          "data": {
            "text/latex": "$\\displaystyle \\mathbf{\\hat{0}}$",
            "text/plain": [
              "0"
            ]
          },
          "metadata": {
            "tags": []
          },
          "execution_count": 10
        }
      ]
    }
  ]
}