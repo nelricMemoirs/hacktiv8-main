{
 "metadata": {
  "language_info": {
   "codemirror_mode": {
    "name": "ipython",
    "version": 3
   },
   "file_extension": ".py",
   "mimetype": "text/x-python",
   "name": "python",
   "nbconvert_exporter": "python",
   "pygments_lexer": "ipython3",
   "version": "3.6.8"
  },
  "orig_nbformat": 4,
  "kernelspec": {
   "name": "python3",
   "display_name": "Python 3.6.8 64-bit"
  },
  "interpreter": {
   "hash": "83f30b26af0a87ee706a28a959f6642ad0a1d134e1eb968313f9a3da2b9bf57d"
  }
 },
 "nbformat": 4,
 "nbformat_minor": 2,
 "cells": [
  {
   "source": [
    "# Non-Graded Challenge 2 week 1 \n",
    "\n"
   ],
   "cell_type": "markdown",
   "metadata": {}
  },
  {
   "cell_type": "code",
   "execution_count": 206,
   "metadata": {},
   "outputs": [],
   "source": [
    "# function to check if input < 0\n",
    "def negative_val_checker(input):\n",
    "    # check if input only integer/float\n",
    "    if type(input) == int or type(input) == float or input.isdigit():\n",
    "        return \"Input is ambigous or not contain unit measurement: expected 123 celcius, 23 kelvin, etc\"\n",
    "    \n",
    "    # get the unit and temperature\n",
    "    unit = input.lstrip(\"0123456789.- \").lower()\n",
    "    temp_output = input[:len(input) - len(unit)].strip()\n",
    "    # check if temp_output < 0\n",
    "    if temp_output[0] == '-':\n",
    "        # del negative\n",
    "        temp_output = temp_output.replace('-', '')\n",
    "        temp_output = float(temp_output) * -1\n",
    "    else:\n",
    "        # init the temperature\n",
    "        temp_output = input[:len(input) - len(unit)].strip()\n",
    "        temp_output = float(temp_output)\n",
    "    \n",
    "    return float(temp_output), unit\n",
    "\n",
    "\n",
    "# function for kelvin to celcius and vice versa\n",
    "def cel_kel_temp_converter(user_input):\n",
    "    # check if input only integer/float\n",
    "    if type(user_input) == int or type(user_input) == float or user_input.isdigit():\n",
    "        return \"Input is ambigous or not contain unit measurement: expected 123 celcius, 23 kelvin, etc\"\n",
    "\n",
    "    # check if input contain negative or less than 0\n",
    "    temp, unit = negative_val_checker(user_input)\n",
    "\n",
    "    # convert to celcius, if kelvin detected\n",
    "    if (unit[0] == 'k'):\n",
    "        # kelvin to celcius\n",
    "        temp_to_cel = float(temp) - 273\n",
    "        return \"{:.2f} Celcius\".format(temp_to_cel)\n",
    "\n",
    "    # convert to kelvin, if celcius detected\n",
    "    elif (unit[0] == 'c'):\n",
    "        # celcius to kelvin\n",
    "        temp_to_kel = float(temp) + 273\n",
    "        return \"{:.2f} Kelvin\".format(temp_to_kel)\n",
    "\n",
    "# function for celcius and kelvin to fahrenheit\n",
    "def celkel_to_fahr_converter(user_input):\n",
    "    # check if input only integer/float\n",
    "    if type(user_input) == int or type(user_input) == float or user_input.isdigit():\n",
    "        return \"Input is ambigous or not contain unit measurement: expected 123 celcius, 23 kelvin, etc\"\n",
    "\n",
    "    # check if input contain negative or less than 0\n",
    "    \n",
    "    temp, unit = negative_val_checker(user_input)\n",
    "    # return fahrenheit not supp\n",
    "    if unit[0] == 'f':\n",
    "        return \"Fahrenheit is not supported\"\n",
    "\n",
    "    # kelvin detected\n",
    "    if unit[0] == 'k' :\n",
    "        # convert to fahrenheit\n",
    "        kel_to_fahr = 9/5 * (float(temp) - 273) + 32 \n",
    "        return \"{:.2f} Fahrenheit\".format(kel_to_fahr)\n",
    "\n",
    "    else:\n",
    "        # convert from celcius to fahrenheit\n",
    "        cel_to_fahr = 9/5 * float(temp) + 32\n",
    "        return \"{:.2f} Fahrenheit\".format(cel_to_fahr)\n",
    "\n",
    "# function to convert fahrenheit to celcius and kelvin\n",
    "def fahr_to_celkel_converter(user_input):\n",
    "    # check if input only integer/float\n",
    "    if type(user_input) == int or type(user_input) == float or user_input.isdigit():\n",
    "        return \"Input is ambigous or not contain unit measurement: expected 123 celcius, 23 kelvin, etc\"\n",
    "\n",
    "    # check if input contain negative or less than 0\n",
    "    temp, unit = negative_val_checker(user_input)\n",
    "\n",
    "    # return string if input not in fahrenheit unit.\n",
    "    if unit[0] != 'f':\n",
    "        return \"input unit is not in Fahrenheit\"\n",
    "\n",
    "    # convert fahrenheit to C and K\n",
    "    if unit[0] == 'f':\n",
    "        # convert to C\n",
    "        to_cel = 5/9 * ( float(temp) - 32 )\n",
    "        # convert to K\n",
    "        to_kel = 5/9 * ( float(temp) - 32 ) + 273\n",
    "        # return both C and K\n",
    "        return \"{:.2f} Celcius , {:.2f} Kelvin\".format(to_cel, to_kel)\n"
   ]
  },
  {
   "cell_type": "code",
   "execution_count": 207,
   "metadata": {},
   "outputs": [
    {
     "output_type": "stream",
     "name": "stdout",
     "text": [
      "\ninput :  72\n=====================\nConverted temperature\nOutput: \n>> Input is ambigous or not contain unit measurement: expected 123 celcius, 23 kelvin, etc\n>> Input is ambigous or not contain unit measurement: expected 123 celcius, 23 kelvin, etc\n>> Input is ambigous or not contain unit measurement: expected 123 celcius, 23 kelvin, etc\n\ninput :  -123 kelvin\n=====================\nConverted temperature\nOutput: \n>> -396.00 Celcius\n>> -680.80 Fahrenheit\n>> input unit is not in Fahrenheit\n\ninput :  14 celcius\n=====================\nConverted temperature\nOutput: \n>> 287.00 Kelvin\n>> 57.20 Fahrenheit\n>> input unit is not in Fahrenheit\n\ninput :  32 kel\n=====================\nConverted temperature\nOutput: \n>> -241.00 Celcius\n>> -401.80 Fahrenheit\n>> input unit is not in Fahrenheit\n\ninput :  0 celc\n=====================\nConverted temperature\nOutput: \n>> 273.00 Kelvin\n>> 32.00 Fahrenheit\n>> input unit is not in Fahrenheit\n\ninput :  23 fahrenheit\n=====================\nConverted temperature\nOutput: \n>> None\n>> Fahrenheit is not supported\n>> -5.00 Celcius , 268.00 Kelvin\n\ninput :  -78 fahr\n=====================\nConverted temperature\nOutput: \n>> None\n>> Fahrenheit is not supported\n>> -61.11 Celcius , 211.89 Kelvin\n\ninput :  200000000\n=====================\nConverted temperature\nOutput: \n>> Input is ambigous or not contain unit measurement: expected 123 celcius, 23 kelvin, etc\n>> Input is ambigous or not contain unit measurement: expected 123 celcius, 23 kelvin, etc\n>> Input is ambigous or not contain unit measurement: expected 123 celcius, 23 kelvin, etc\n\ninput :  1000000 CELCIUS\n=====================\nConverted temperature\nOutput: \n>> 1000273.00 Kelvin\n>> 1800032.00 Fahrenheit\n>> input unit is not in Fahrenheit\n"
     ]
    }
   ],
   "source": [
    "user_input = [\n",
    "              '72',\n",
    "              '-123 kelvin', '14 celcius',\n",
    "              '32 kel', '0 celc', \n",
    "              '23 fahrenheit', '-78 fahr',\n",
    "              '200000000', '1000000 CELCIUS'\n",
    "            ]\n",
    "\n",
    "for input in user_input:\n",
    "    print('\\ninput : ', input)\n",
    "    print('=====================')\n",
    "    print('Converted temperature')\n",
    "    print('Output: \\n>> {}\\n>> {}\\n>> {}'.format( cel_kel_temp_converter(input), celkel_to_fahr_converter(input),  fahr_to_celkel_converter(input) ) )\n",
    "\n"
   ]
  }
 ]
}